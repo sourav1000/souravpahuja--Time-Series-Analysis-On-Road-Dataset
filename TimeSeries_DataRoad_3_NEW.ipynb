{
  "nbformat": 4,
  "nbformat_minor": 0,
  "metadata": {
    "colab": {
      "provenance": []
    },
    "kernelspec": {
      "name": "python3",
      "display_name": "Python 3"
    },
    "language_info": {
      "name": "python"
    }
  },
  "cells": [
    {
      "cell_type": "code",
      "source": [
        "import warnings\n",
        "warnings.filterwarnings('ignore')"
      ],
      "metadata": {
        "id": "WaHDu9pe2scd"
      },
      "execution_count": null,
      "outputs": []
    },
    {
      "cell_type": "code",
      "execution_count": null,
      "metadata": {
        "id": "IySBbtQIkpvk"
      },
      "outputs": [],
      "source": [
        "import pandas as pd\n",
        "import numpy as np"
      ]
    },
    {
      "cell_type": "code",
      "source": [
        "df = pd.read_csv('/content/road_data.csv')\n",
        "df"
      ],
      "metadata": {
        "colab": {
          "base_uri": "https://localhost:8080/",
          "height": 424
        },
        "id": "n2YlTZWplFam",
        "outputId": "f81135f8-617c-4a0f-c5e9-6ee8e9bfa328"
      },
      "execution_count": 6,
      "outputs": [
        {
          "output_type": "execute_result",
          "data": {
            "text/plain": [
              "     Unnamed: 0  year  Para-1  Para-2  Para-3  Para-4  Para-5  Para-6  Para-7  \\\n",
              "0         Sec_1     1   324.0   354.5    17.0     0.0       3     117    2600   \n",
              "1           NaN     2   324.0   161.1    18.2     0.0       4     106    5950   \n",
              "2           NaN     3   324.0   170.7    18.5     0.0       4     110    5950   \n",
              "3           NaN     4   324.0   223.9    18.9     0.0       3     110    6150   \n",
              "4           NaN     5   324.0   228.2    18.4     0.0       2     113    6340   \n",
              "...         ...   ...     ...     ...     ...     ...     ...     ...     ...   \n",
              "1005        NaN     6   454.0   931.8    13.6   125.0      13     116    4150   \n",
              "1006        NaN     7   454.0   703.0    14.5    17.0      13     118    4150   \n",
              "1007        NaN     8   454.0  1124.1    14.9    45.0      18     117    4200   \n",
              "1008        NaN     9   454.0  1462.3    13.2    62.0      27     117    4400   \n",
              "1009        NaN    10   454.0   986.3    14.3    67.0      24     122    4415   \n",
              "\n",
              "      Para-8  Para-9  Para-10  Para-11  Para-12  Para-13  \n",
              "0        400     0.0      0.0      0.0        0    1.520  \n",
              "1       1190     0.0      3.4      0.0        0    1.620  \n",
              "2       1190     0.0     21.3      0.0        4    1.680  \n",
              "3       1340     0.0     21.3      0.0        5    1.780  \n",
              "4       1450     0.0     23.9      0.0        7    1.800  \n",
              "...      ...     ...      ...      ...      ...      ...  \n",
              "1005     830    15.1      1.8      1.0       15    1.681  \n",
              "1006     830    24.6      7.9      2.0       15    1.838  \n",
              "1007     840   119.0     15.7      2.0       16    1.862  \n",
              "1008     720   138.2     30.5      6.0       18    1.883  \n",
              "1009     721   293.0     39.8      7.0       18    1.889  \n",
              "\n",
              "[1010 rows x 15 columns]"
            ],
            "text/html": [
              "\n",
              "  <div id=\"df-41b81550-8e29-4c37-82bb-24a3b6626f20\">\n",
              "    <div class=\"colab-df-container\">\n",
              "      <div>\n",
              "<style scoped>\n",
              "    .dataframe tbody tr th:only-of-type {\n",
              "        vertical-align: middle;\n",
              "    }\n",
              "\n",
              "    .dataframe tbody tr th {\n",
              "        vertical-align: top;\n",
              "    }\n",
              "\n",
              "    .dataframe thead th {\n",
              "        text-align: right;\n",
              "    }\n",
              "</style>\n",
              "<table border=\"1\" class=\"dataframe\">\n",
              "  <thead>\n",
              "    <tr style=\"text-align: right;\">\n",
              "      <th></th>\n",
              "      <th>Unnamed: 0</th>\n",
              "      <th>year</th>\n",
              "      <th>Para-1</th>\n",
              "      <th>Para-2</th>\n",
              "      <th>Para-3</th>\n",
              "      <th>Para-4</th>\n",
              "      <th>Para-5</th>\n",
              "      <th>Para-6</th>\n",
              "      <th>Para-7</th>\n",
              "      <th>Para-8</th>\n",
              "      <th>Para-9</th>\n",
              "      <th>Para-10</th>\n",
              "      <th>Para-11</th>\n",
              "      <th>Para-12</th>\n",
              "      <th>Para-13</th>\n",
              "    </tr>\n",
              "  </thead>\n",
              "  <tbody>\n",
              "    <tr>\n",
              "      <th>0</th>\n",
              "      <td>Sec_1</td>\n",
              "      <td>1</td>\n",
              "      <td>324.0</td>\n",
              "      <td>354.5</td>\n",
              "      <td>17.0</td>\n",
              "      <td>0.0</td>\n",
              "      <td>3</td>\n",
              "      <td>117</td>\n",
              "      <td>2600</td>\n",
              "      <td>400</td>\n",
              "      <td>0.0</td>\n",
              "      <td>0.0</td>\n",
              "      <td>0.0</td>\n",
              "      <td>0</td>\n",
              "      <td>1.520</td>\n",
              "    </tr>\n",
              "    <tr>\n",
              "      <th>1</th>\n",
              "      <td>NaN</td>\n",
              "      <td>2</td>\n",
              "      <td>324.0</td>\n",
              "      <td>161.1</td>\n",
              "      <td>18.2</td>\n",
              "      <td>0.0</td>\n",
              "      <td>4</td>\n",
              "      <td>106</td>\n",
              "      <td>5950</td>\n",
              "      <td>1190</td>\n",
              "      <td>0.0</td>\n",
              "      <td>3.4</td>\n",
              "      <td>0.0</td>\n",
              "      <td>0</td>\n",
              "      <td>1.620</td>\n",
              "    </tr>\n",
              "    <tr>\n",
              "      <th>2</th>\n",
              "      <td>NaN</td>\n",
              "      <td>3</td>\n",
              "      <td>324.0</td>\n",
              "      <td>170.7</td>\n",
              "      <td>18.5</td>\n",
              "      <td>0.0</td>\n",
              "      <td>4</td>\n",
              "      <td>110</td>\n",
              "      <td>5950</td>\n",
              "      <td>1190</td>\n",
              "      <td>0.0</td>\n",
              "      <td>21.3</td>\n",
              "      <td>0.0</td>\n",
              "      <td>4</td>\n",
              "      <td>1.680</td>\n",
              "    </tr>\n",
              "    <tr>\n",
              "      <th>3</th>\n",
              "      <td>NaN</td>\n",
              "      <td>4</td>\n",
              "      <td>324.0</td>\n",
              "      <td>223.9</td>\n",
              "      <td>18.9</td>\n",
              "      <td>0.0</td>\n",
              "      <td>3</td>\n",
              "      <td>110</td>\n",
              "      <td>6150</td>\n",
              "      <td>1340</td>\n",
              "      <td>0.0</td>\n",
              "      <td>21.3</td>\n",
              "      <td>0.0</td>\n",
              "      <td>5</td>\n",
              "      <td>1.780</td>\n",
              "    </tr>\n",
              "    <tr>\n",
              "      <th>4</th>\n",
              "      <td>NaN</td>\n",
              "      <td>5</td>\n",
              "      <td>324.0</td>\n",
              "      <td>228.2</td>\n",
              "      <td>18.4</td>\n",
              "      <td>0.0</td>\n",
              "      <td>2</td>\n",
              "      <td>113</td>\n",
              "      <td>6340</td>\n",
              "      <td>1450</td>\n",
              "      <td>0.0</td>\n",
              "      <td>23.9</td>\n",
              "      <td>0.0</td>\n",
              "      <td>7</td>\n",
              "      <td>1.800</td>\n",
              "    </tr>\n",
              "    <tr>\n",
              "      <th>...</th>\n",
              "      <td>...</td>\n",
              "      <td>...</td>\n",
              "      <td>...</td>\n",
              "      <td>...</td>\n",
              "      <td>...</td>\n",
              "      <td>...</td>\n",
              "      <td>...</td>\n",
              "      <td>...</td>\n",
              "      <td>...</td>\n",
              "      <td>...</td>\n",
              "      <td>...</td>\n",
              "      <td>...</td>\n",
              "      <td>...</td>\n",
              "      <td>...</td>\n",
              "      <td>...</td>\n",
              "    </tr>\n",
              "    <tr>\n",
              "      <th>1005</th>\n",
              "      <td>NaN</td>\n",
              "      <td>6</td>\n",
              "      <td>454.0</td>\n",
              "      <td>931.8</td>\n",
              "      <td>13.6</td>\n",
              "      <td>125.0</td>\n",
              "      <td>13</td>\n",
              "      <td>116</td>\n",
              "      <td>4150</td>\n",
              "      <td>830</td>\n",
              "      <td>15.1</td>\n",
              "      <td>1.8</td>\n",
              "      <td>1.0</td>\n",
              "      <td>15</td>\n",
              "      <td>1.681</td>\n",
              "    </tr>\n",
              "    <tr>\n",
              "      <th>1006</th>\n",
              "      <td>NaN</td>\n",
              "      <td>7</td>\n",
              "      <td>454.0</td>\n",
              "      <td>703.0</td>\n",
              "      <td>14.5</td>\n",
              "      <td>17.0</td>\n",
              "      <td>13</td>\n",
              "      <td>118</td>\n",
              "      <td>4150</td>\n",
              "      <td>830</td>\n",
              "      <td>24.6</td>\n",
              "      <td>7.9</td>\n",
              "      <td>2.0</td>\n",
              "      <td>15</td>\n",
              "      <td>1.838</td>\n",
              "    </tr>\n",
              "    <tr>\n",
              "      <th>1007</th>\n",
              "      <td>NaN</td>\n",
              "      <td>8</td>\n",
              "      <td>454.0</td>\n",
              "      <td>1124.1</td>\n",
              "      <td>14.9</td>\n",
              "      <td>45.0</td>\n",
              "      <td>18</td>\n",
              "      <td>117</td>\n",
              "      <td>4200</td>\n",
              "      <td>840</td>\n",
              "      <td>119.0</td>\n",
              "      <td>15.7</td>\n",
              "      <td>2.0</td>\n",
              "      <td>16</td>\n",
              "      <td>1.862</td>\n",
              "    </tr>\n",
              "    <tr>\n",
              "      <th>1008</th>\n",
              "      <td>NaN</td>\n",
              "      <td>9</td>\n",
              "      <td>454.0</td>\n",
              "      <td>1462.3</td>\n",
              "      <td>13.2</td>\n",
              "      <td>62.0</td>\n",
              "      <td>27</td>\n",
              "      <td>117</td>\n",
              "      <td>4400</td>\n",
              "      <td>720</td>\n",
              "      <td>138.2</td>\n",
              "      <td>30.5</td>\n",
              "      <td>6.0</td>\n",
              "      <td>18</td>\n",
              "      <td>1.883</td>\n",
              "    </tr>\n",
              "    <tr>\n",
              "      <th>1009</th>\n",
              "      <td>NaN</td>\n",
              "      <td>10</td>\n",
              "      <td>454.0</td>\n",
              "      <td>986.3</td>\n",
              "      <td>14.3</td>\n",
              "      <td>67.0</td>\n",
              "      <td>24</td>\n",
              "      <td>122</td>\n",
              "      <td>4415</td>\n",
              "      <td>721</td>\n",
              "      <td>293.0</td>\n",
              "      <td>39.8</td>\n",
              "      <td>7.0</td>\n",
              "      <td>18</td>\n",
              "      <td>1.889</td>\n",
              "    </tr>\n",
              "  </tbody>\n",
              "</table>\n",
              "<p>1010 rows × 15 columns</p>\n",
              "</div>\n",
              "      <button class=\"colab-df-convert\" onclick=\"convertToInteractive('df-41b81550-8e29-4c37-82bb-24a3b6626f20')\"\n",
              "              title=\"Convert this dataframe to an interactive table.\"\n",
              "              style=\"display:none;\">\n",
              "        \n",
              "  <svg xmlns=\"http://www.w3.org/2000/svg\" height=\"24px\"viewBox=\"0 0 24 24\"\n",
              "       width=\"24px\">\n",
              "    <path d=\"M0 0h24v24H0V0z\" fill=\"none\"/>\n",
              "    <path d=\"M18.56 5.44l.94 2.06.94-2.06 2.06-.94-2.06-.94-.94-2.06-.94 2.06-2.06.94zm-11 1L8.5 8.5l.94-2.06 2.06-.94-2.06-.94L8.5 2.5l-.94 2.06-2.06.94zm10 10l.94 2.06.94-2.06 2.06-.94-2.06-.94-.94-2.06-.94 2.06-2.06.94z\"/><path d=\"M17.41 7.96l-1.37-1.37c-.4-.4-.92-.59-1.43-.59-.52 0-1.04.2-1.43.59L10.3 9.45l-7.72 7.72c-.78.78-.78 2.05 0 2.83L4 21.41c.39.39.9.59 1.41.59.51 0 1.02-.2 1.41-.59l7.78-7.78 2.81-2.81c.8-.78.8-2.07 0-2.86zM5.41 20L4 18.59l7.72-7.72 1.47 1.35L5.41 20z\"/>\n",
              "  </svg>\n",
              "      </button>\n",
              "      \n",
              "  <style>\n",
              "    .colab-df-container {\n",
              "      display:flex;\n",
              "      flex-wrap:wrap;\n",
              "      gap: 12px;\n",
              "    }\n",
              "\n",
              "    .colab-df-convert {\n",
              "      background-color: #E8F0FE;\n",
              "      border: none;\n",
              "      border-radius: 50%;\n",
              "      cursor: pointer;\n",
              "      display: none;\n",
              "      fill: #1967D2;\n",
              "      height: 32px;\n",
              "      padding: 0 0 0 0;\n",
              "      width: 32px;\n",
              "    }\n",
              "\n",
              "    .colab-df-convert:hover {\n",
              "      background-color: #E2EBFA;\n",
              "      box-shadow: 0px 1px 2px rgba(60, 64, 67, 0.3), 0px 1px 3px 1px rgba(60, 64, 67, 0.15);\n",
              "      fill: #174EA6;\n",
              "    }\n",
              "\n",
              "    [theme=dark] .colab-df-convert {\n",
              "      background-color: #3B4455;\n",
              "      fill: #D2E3FC;\n",
              "    }\n",
              "\n",
              "    [theme=dark] .colab-df-convert:hover {\n",
              "      background-color: #434B5C;\n",
              "      box-shadow: 0px 1px 3px 1px rgba(0, 0, 0, 0.15);\n",
              "      filter: drop-shadow(0px 1px 2px rgba(0, 0, 0, 0.3));\n",
              "      fill: #FFFFFF;\n",
              "    }\n",
              "  </style>\n",
              "\n",
              "      <script>\n",
              "        const buttonEl =\n",
              "          document.querySelector('#df-41b81550-8e29-4c37-82bb-24a3b6626f20 button.colab-df-convert');\n",
              "        buttonEl.style.display =\n",
              "          google.colab.kernel.accessAllowed ? 'block' : 'none';\n",
              "\n",
              "        async function convertToInteractive(key) {\n",
              "          const element = document.querySelector('#df-41b81550-8e29-4c37-82bb-24a3b6626f20');\n",
              "          const dataTable =\n",
              "            await google.colab.kernel.invokeFunction('convertToInteractive',\n",
              "                                                     [key], {});\n",
              "          if (!dataTable) return;\n",
              "\n",
              "          const docLinkHtml = 'Like what you see? Visit the ' +\n",
              "            '<a target=\"_blank\" href=https://colab.research.google.com/notebooks/data_table.ipynb>data table notebook</a>'\n",
              "            + ' to learn more about interactive tables.';\n",
              "          element.innerHTML = '';\n",
              "          dataTable['output_type'] = 'display_data';\n",
              "          await google.colab.output.renderOutput(dataTable, element);\n",
              "          const docLink = document.createElement('div');\n",
              "          docLink.innerHTML = docLinkHtml;\n",
              "          element.appendChild(docLink);\n",
              "        }\n",
              "      </script>\n",
              "    </div>\n",
              "  </div>\n",
              "  "
            ]
          },
          "metadata": {},
          "execution_count": 6
        }
      ]
    },
    {
      "cell_type": "code",
      "source": [
        "df = df.drop(range(910,919))\n",
        "df.fillna(0,inplace=True)"
      ],
      "metadata": {
        "id": "OqW-xb8RlZpr"
      },
      "execution_count": 7,
      "outputs": []
    },
    {
      "cell_type": "code",
      "source": [
        "j=0\n",
        "for i in range(100):\n",
        "  df.iloc[j:j+10,0] = df.iloc[j,0]\n",
        "  j += 10"
      ],
      "metadata": {
        "id": "vy091qHalqs9"
      },
      "execution_count": 8,
      "outputs": []
    },
    {
      "cell_type": "code",
      "source": [
        "test = df.loc[df['year']==10]"
      ],
      "metadata": {
        "id": "Xg7KDltMl5Ur"
      },
      "execution_count": 9,
      "outputs": []
    },
    {
      "cell_type": "code",
      "source": [
        "df.columns = df.columns.str.replace('Unnamed: 0', 'Group')\n",
        "test.columns = test.columns.str.replace('Unnamed: 0', 'Group')\n",
        "df.head(10)"
      ],
      "metadata": {
        "colab": {
          "base_uri": "https://localhost:8080/",
          "height": 363
        },
        "id": "cYUckR5UmE0s",
        "outputId": "fbb0d594-2cc4-467d-8059-3626ba1679b2"
      },
      "execution_count": 10,
      "outputs": [
        {
          "output_type": "execute_result",
          "data": {
            "text/plain": [
              "   Group  year  Para-1  Para-2  Para-3  Para-4  Para-5  Para-6  Para-7  \\\n",
              "0  Sec_1     1   324.0   354.5    17.0     0.0       3     117    2600   \n",
              "1  Sec_1     2   324.0   161.1    18.2     0.0       4     106    5950   \n",
              "2  Sec_1     3   324.0   170.7    18.5     0.0       4     110    5950   \n",
              "3  Sec_1     4   324.0   223.9    18.9     0.0       3     110    6150   \n",
              "4  Sec_1     5   324.0   228.2    18.4     0.0       2     113    6340   \n",
              "5  Sec_1     6   324.0   225.0    17.2     0.0       4     114    6630   \n",
              "6  Sec_1     7   324.0   130.0    18.4     0.0       3     103    6700   \n",
              "7  Sec_1     8   324.0   100.6    19.0     0.0       2     114    6740   \n",
              "8  Sec_1     9   324.0   176.5    19.0     0.0       3     108    7175   \n",
              "9  Sec_1    10   324.0    53.6    19.0     0.0       2     105    7567   \n",
              "\n",
              "   Para-8  Para-9  Para-10  Para-11  Para-12  Para-13  \n",
              "0     400     0.0      0.0      0.0        0     1.52  \n",
              "1    1190     0.0      3.4      0.0        0     1.62  \n",
              "2    1190     0.0     21.3      0.0        4     1.68  \n",
              "3    1340     0.0     21.3      0.0        5     1.78  \n",
              "4    1450     0.0     23.9      0.0        7     1.80  \n",
              "5    1500     0.0     24.9      0.0        7     1.81  \n",
              "6    1540     0.9     25.2      0.0        7     1.86  \n",
              "7    1590     0.9     52.8      0.0        8     1.89  \n",
              "8    1787     3.4     60.5     57.0        8     1.92  \n",
              "9    1885    16.8    105.0     65.0        9     1.96  "
            ],
            "text/html": [
              "\n",
              "  <div id=\"df-48944c4d-b6b8-4b15-87ed-d34cd1305149\">\n",
              "    <div class=\"colab-df-container\">\n",
              "      <div>\n",
              "<style scoped>\n",
              "    .dataframe tbody tr th:only-of-type {\n",
              "        vertical-align: middle;\n",
              "    }\n",
              "\n",
              "    .dataframe tbody tr th {\n",
              "        vertical-align: top;\n",
              "    }\n",
              "\n",
              "    .dataframe thead th {\n",
              "        text-align: right;\n",
              "    }\n",
              "</style>\n",
              "<table border=\"1\" class=\"dataframe\">\n",
              "  <thead>\n",
              "    <tr style=\"text-align: right;\">\n",
              "      <th></th>\n",
              "      <th>Group</th>\n",
              "      <th>year</th>\n",
              "      <th>Para-1</th>\n",
              "      <th>Para-2</th>\n",
              "      <th>Para-3</th>\n",
              "      <th>Para-4</th>\n",
              "      <th>Para-5</th>\n",
              "      <th>Para-6</th>\n",
              "      <th>Para-7</th>\n",
              "      <th>Para-8</th>\n",
              "      <th>Para-9</th>\n",
              "      <th>Para-10</th>\n",
              "      <th>Para-11</th>\n",
              "      <th>Para-12</th>\n",
              "      <th>Para-13</th>\n",
              "    </tr>\n",
              "  </thead>\n",
              "  <tbody>\n",
              "    <tr>\n",
              "      <th>0</th>\n",
              "      <td>Sec_1</td>\n",
              "      <td>1</td>\n",
              "      <td>324.0</td>\n",
              "      <td>354.5</td>\n",
              "      <td>17.0</td>\n",
              "      <td>0.0</td>\n",
              "      <td>3</td>\n",
              "      <td>117</td>\n",
              "      <td>2600</td>\n",
              "      <td>400</td>\n",
              "      <td>0.0</td>\n",
              "      <td>0.0</td>\n",
              "      <td>0.0</td>\n",
              "      <td>0</td>\n",
              "      <td>1.52</td>\n",
              "    </tr>\n",
              "    <tr>\n",
              "      <th>1</th>\n",
              "      <td>Sec_1</td>\n",
              "      <td>2</td>\n",
              "      <td>324.0</td>\n",
              "      <td>161.1</td>\n",
              "      <td>18.2</td>\n",
              "      <td>0.0</td>\n",
              "      <td>4</td>\n",
              "      <td>106</td>\n",
              "      <td>5950</td>\n",
              "      <td>1190</td>\n",
              "      <td>0.0</td>\n",
              "      <td>3.4</td>\n",
              "      <td>0.0</td>\n",
              "      <td>0</td>\n",
              "      <td>1.62</td>\n",
              "    </tr>\n",
              "    <tr>\n",
              "      <th>2</th>\n",
              "      <td>Sec_1</td>\n",
              "      <td>3</td>\n",
              "      <td>324.0</td>\n",
              "      <td>170.7</td>\n",
              "      <td>18.5</td>\n",
              "      <td>0.0</td>\n",
              "      <td>4</td>\n",
              "      <td>110</td>\n",
              "      <td>5950</td>\n",
              "      <td>1190</td>\n",
              "      <td>0.0</td>\n",
              "      <td>21.3</td>\n",
              "      <td>0.0</td>\n",
              "      <td>4</td>\n",
              "      <td>1.68</td>\n",
              "    </tr>\n",
              "    <tr>\n",
              "      <th>3</th>\n",
              "      <td>Sec_1</td>\n",
              "      <td>4</td>\n",
              "      <td>324.0</td>\n",
              "      <td>223.9</td>\n",
              "      <td>18.9</td>\n",
              "      <td>0.0</td>\n",
              "      <td>3</td>\n",
              "      <td>110</td>\n",
              "      <td>6150</td>\n",
              "      <td>1340</td>\n",
              "      <td>0.0</td>\n",
              "      <td>21.3</td>\n",
              "      <td>0.0</td>\n",
              "      <td>5</td>\n",
              "      <td>1.78</td>\n",
              "    </tr>\n",
              "    <tr>\n",
              "      <th>4</th>\n",
              "      <td>Sec_1</td>\n",
              "      <td>5</td>\n",
              "      <td>324.0</td>\n",
              "      <td>228.2</td>\n",
              "      <td>18.4</td>\n",
              "      <td>0.0</td>\n",
              "      <td>2</td>\n",
              "      <td>113</td>\n",
              "      <td>6340</td>\n",
              "      <td>1450</td>\n",
              "      <td>0.0</td>\n",
              "      <td>23.9</td>\n",
              "      <td>0.0</td>\n",
              "      <td>7</td>\n",
              "      <td>1.80</td>\n",
              "    </tr>\n",
              "    <tr>\n",
              "      <th>5</th>\n",
              "      <td>Sec_1</td>\n",
              "      <td>6</td>\n",
              "      <td>324.0</td>\n",
              "      <td>225.0</td>\n",
              "      <td>17.2</td>\n",
              "      <td>0.0</td>\n",
              "      <td>4</td>\n",
              "      <td>114</td>\n",
              "      <td>6630</td>\n",
              "      <td>1500</td>\n",
              "      <td>0.0</td>\n",
              "      <td>24.9</td>\n",
              "      <td>0.0</td>\n",
              "      <td>7</td>\n",
              "      <td>1.81</td>\n",
              "    </tr>\n",
              "    <tr>\n",
              "      <th>6</th>\n",
              "      <td>Sec_1</td>\n",
              "      <td>7</td>\n",
              "      <td>324.0</td>\n",
              "      <td>130.0</td>\n",
              "      <td>18.4</td>\n",
              "      <td>0.0</td>\n",
              "      <td>3</td>\n",
              "      <td>103</td>\n",
              "      <td>6700</td>\n",
              "      <td>1540</td>\n",
              "      <td>0.9</td>\n",
              "      <td>25.2</td>\n",
              "      <td>0.0</td>\n",
              "      <td>7</td>\n",
              "      <td>1.86</td>\n",
              "    </tr>\n",
              "    <tr>\n",
              "      <th>7</th>\n",
              "      <td>Sec_1</td>\n",
              "      <td>8</td>\n",
              "      <td>324.0</td>\n",
              "      <td>100.6</td>\n",
              "      <td>19.0</td>\n",
              "      <td>0.0</td>\n",
              "      <td>2</td>\n",
              "      <td>114</td>\n",
              "      <td>6740</td>\n",
              "      <td>1590</td>\n",
              "      <td>0.9</td>\n",
              "      <td>52.8</td>\n",
              "      <td>0.0</td>\n",
              "      <td>8</td>\n",
              "      <td>1.89</td>\n",
              "    </tr>\n",
              "    <tr>\n",
              "      <th>8</th>\n",
              "      <td>Sec_1</td>\n",
              "      <td>9</td>\n",
              "      <td>324.0</td>\n",
              "      <td>176.5</td>\n",
              "      <td>19.0</td>\n",
              "      <td>0.0</td>\n",
              "      <td>3</td>\n",
              "      <td>108</td>\n",
              "      <td>7175</td>\n",
              "      <td>1787</td>\n",
              "      <td>3.4</td>\n",
              "      <td>60.5</td>\n",
              "      <td>57.0</td>\n",
              "      <td>8</td>\n",
              "      <td>1.92</td>\n",
              "    </tr>\n",
              "    <tr>\n",
              "      <th>9</th>\n",
              "      <td>Sec_1</td>\n",
              "      <td>10</td>\n",
              "      <td>324.0</td>\n",
              "      <td>53.6</td>\n",
              "      <td>19.0</td>\n",
              "      <td>0.0</td>\n",
              "      <td>2</td>\n",
              "      <td>105</td>\n",
              "      <td>7567</td>\n",
              "      <td>1885</td>\n",
              "      <td>16.8</td>\n",
              "      <td>105.0</td>\n",
              "      <td>65.0</td>\n",
              "      <td>9</td>\n",
              "      <td>1.96</td>\n",
              "    </tr>\n",
              "  </tbody>\n",
              "</table>\n",
              "</div>\n",
              "      <button class=\"colab-df-convert\" onclick=\"convertToInteractive('df-48944c4d-b6b8-4b15-87ed-d34cd1305149')\"\n",
              "              title=\"Convert this dataframe to an interactive table.\"\n",
              "              style=\"display:none;\">\n",
              "        \n",
              "  <svg xmlns=\"http://www.w3.org/2000/svg\" height=\"24px\"viewBox=\"0 0 24 24\"\n",
              "       width=\"24px\">\n",
              "    <path d=\"M0 0h24v24H0V0z\" fill=\"none\"/>\n",
              "    <path d=\"M18.56 5.44l.94 2.06.94-2.06 2.06-.94-2.06-.94-.94-2.06-.94 2.06-2.06.94zm-11 1L8.5 8.5l.94-2.06 2.06-.94-2.06-.94L8.5 2.5l-.94 2.06-2.06.94zm10 10l.94 2.06.94-2.06 2.06-.94-2.06-.94-.94-2.06-.94 2.06-2.06.94z\"/><path d=\"M17.41 7.96l-1.37-1.37c-.4-.4-.92-.59-1.43-.59-.52 0-1.04.2-1.43.59L10.3 9.45l-7.72 7.72c-.78.78-.78 2.05 0 2.83L4 21.41c.39.39.9.59 1.41.59.51 0 1.02-.2 1.41-.59l7.78-7.78 2.81-2.81c.8-.78.8-2.07 0-2.86zM5.41 20L4 18.59l7.72-7.72 1.47 1.35L5.41 20z\"/>\n",
              "  </svg>\n",
              "      </button>\n",
              "      \n",
              "  <style>\n",
              "    .colab-df-container {\n",
              "      display:flex;\n",
              "      flex-wrap:wrap;\n",
              "      gap: 12px;\n",
              "    }\n",
              "\n",
              "    .colab-df-convert {\n",
              "      background-color: #E8F0FE;\n",
              "      border: none;\n",
              "      border-radius: 50%;\n",
              "      cursor: pointer;\n",
              "      display: none;\n",
              "      fill: #1967D2;\n",
              "      height: 32px;\n",
              "      padding: 0 0 0 0;\n",
              "      width: 32px;\n",
              "    }\n",
              "\n",
              "    .colab-df-convert:hover {\n",
              "      background-color: #E2EBFA;\n",
              "      box-shadow: 0px 1px 2px rgba(60, 64, 67, 0.3), 0px 1px 3px 1px rgba(60, 64, 67, 0.15);\n",
              "      fill: #174EA6;\n",
              "    }\n",
              "\n",
              "    [theme=dark] .colab-df-convert {\n",
              "      background-color: #3B4455;\n",
              "      fill: #D2E3FC;\n",
              "    }\n",
              "\n",
              "    [theme=dark] .colab-df-convert:hover {\n",
              "      background-color: #434B5C;\n",
              "      box-shadow: 0px 1px 3px 1px rgba(0, 0, 0, 0.15);\n",
              "      filter: drop-shadow(0px 1px 2px rgba(0, 0, 0, 0.3));\n",
              "      fill: #FFFFFF;\n",
              "    }\n",
              "  </style>\n",
              "\n",
              "      <script>\n",
              "        const buttonEl =\n",
              "          document.querySelector('#df-48944c4d-b6b8-4b15-87ed-d34cd1305149 button.colab-df-convert');\n",
              "        buttonEl.style.display =\n",
              "          google.colab.kernel.accessAllowed ? 'block' : 'none';\n",
              "\n",
              "        async function convertToInteractive(key) {\n",
              "          const element = document.querySelector('#df-48944c4d-b6b8-4b15-87ed-d34cd1305149');\n",
              "          const dataTable =\n",
              "            await google.colab.kernel.invokeFunction('convertToInteractive',\n",
              "                                                     [key], {});\n",
              "          if (!dataTable) return;\n",
              "\n",
              "          const docLinkHtml = 'Like what you see? Visit the ' +\n",
              "            '<a target=\"_blank\" href=https://colab.research.google.com/notebooks/data_table.ipynb>data table notebook</a>'\n",
              "            + ' to learn more about interactive tables.';\n",
              "          element.innerHTML = '';\n",
              "          dataTable['output_type'] = 'display_data';\n",
              "          await google.colab.output.renderOutput(dataTable, element);\n",
              "          const docLink = document.createElement('div');\n",
              "          docLink.innerHTML = docLinkHtml;\n",
              "          element.appendChild(docLink);\n",
              "        }\n",
              "      </script>\n",
              "    </div>\n",
              "  </div>\n",
              "  "
            ]
          },
          "metadata": {},
          "execution_count": 10
        }
      ]
    },
    {
      "cell_type": "code",
      "source": [
        "from sklearn.ensemble import ExtraTreesRegressor\n",
        "from sklearn.model_selection import cross_val_score\n",
        "from sklearn.metrics import mean_squared_error\n",
        "import matplotlib.pyplot as plt\n",
        "import math"
      ],
      "metadata": {
        "id": "K2iuCQCtmIwX"
      },
      "execution_count": 11,
      "outputs": []
    },
    {
      "cell_type": "code",
      "source": [
        "from sklearn.ensemble import RandomForestRegressor"
      ],
      "metadata": {
        "id": "IDRIMRPSH2-E"
      },
      "execution_count": 16,
      "outputs": []
    },
    {
      "cell_type": "code",
      "source": [
        "rf = RandomForestRegressor(n_estimators = 1000, random_state = 42)\n"
      ],
      "metadata": {
        "id": "wZ-S7UvQHpAk"
      },
      "execution_count": 19,
      "outputs": []
    },
    {
      "cell_type": "code",
      "source": [
        "RFpred = {'Para-9': [], 'Para-10': [], 'Para-11': [], 'Para-12': [], 'Para-13': []}\n",
        "name = ['Para-9', 'Para-10', 'Para-11', 'Para-12', 'Para-13']\n",
        "ETRpred = {'Para-9': [], 'Para-10': [], 'Para-11': [], 'Para-12': [], 'Para-13': []}"
      ],
      "metadata": {
        "id": "1tJwiM9gIuyA"
      },
      "execution_count": 21,
      "outputs": []
    },
    {
      "cell_type": "code",
      "source": [
        "rfRMSE = []\n",
        "N = 0\n",
        "index = 0"
      ],
      "metadata": {
        "id": "_xv5sPztJIoO"
      },
      "execution_count": 23,
      "outputs": []
    },
    {
      "cell_type": "code",
      "source": [
        "for j in [10, 11, 12, 13, 14]:\n",
        "            ans = 0\n",
        "            count = 0\n",
        "            for i in range(0, 1000, 10):\n",
        "                #Extracting Train and Test Data\n",
        "                xtrain = df.iloc[i:i+9, 1:10]\n",
        "                ytrain = df.iloc[i:i+9, j]\n",
        "                xtest = df.iloc[i+9, 1:10].to_numpy()\n",
        "                ytest = df.iloc[i+9, j]\n",
        "\n",
        "                #Applying Random Forest \n",
        "                rf.fit(xtrain, ytrain)\n",
        "\n",
        "                #Predicting Values\n",
        "                ypred = rf.predict(xtest.reshape(1,-1))[0]\n",
        "  \n",
        "                #Appending Results\n",
        "                \n",
        "                RFpred[name[index]].append(ypred)\n",
        "                ans += (ytest - ypred)**2\n",
        "                count += 1\n",
        "                N += 1\n",
        "\n",
        "            rfRMSE.append(ans)\n",
        "            index += 1"
      ],
      "metadata": {
        "id": "Qb8Qn1QxIRMa"
      },
      "execution_count": 26,
      "outputs": []
    },
    {
      "cell_type": "code",
      "source": [
        "print(\"Total RMSE : \",((sum(rfRMSE)/N))**0.5)"
      ],
      "metadata": {
        "colab": {
          "base_uri": "https://localhost:8080/"
        },
        "id": "HXgxvvatI00Y",
        "outputId": "6ce82153-e766-438c-d6e7-40a7873a02b7"
      },
      "execution_count": 28,
      "outputs": [
        {
          "output_type": "stream",
          "name": "stdout",
          "text": [
            "Total RMSE :  46.264685779094926\n"
          ]
        }
      ]
    },
    {
      "cell_type": "code",
      "source": [
        "etr = ExtraTreesRegressor(bootstrap=False, criterion='mse', max_depth=None,\n",
        "                    max_features='auto', max_leaf_nodes=200,\n",
        "                    min_impurity_decrease=0.0, \n",
        "                    min_samples_leaf=1,\n",
        "                    min_weight_fraction_leaf=0.1,\n",
        "                    n_jobs=None, oob_score=False, verbose=0,\n",
        "                    warm_start=False)"
      ],
      "metadata": {
        "id": "rY7kLNpFmkZJ"
      },
      "execution_count": 29,
      "outputs": []
    },
    {
      "cell_type": "code",
      "source": [
        "etrRMSE = []\n",
        "N = 0\n",
        "index = 0\n",
        "for j in [10, 11, 12, 13, 14]:\n",
        "    ans = 0\n",
        "    count = 0\n",
        "    for i in range(0, 1000, 10):\n",
        "        xtrain = df.iloc[i:i+9, 1:10]\n",
        "        ytrain = df.iloc[i:i+9, j]\n",
        "        xtest = df.iloc[i+9, 1:10].to_numpy()\n",
        "        ytest = df.iloc[i+9, j]\n",
        "        etr.fit(xtrain, ytrain)\n",
        "\n",
        "        ypred = etr.predict(xtest.reshape(1,-1))[0]\n",
        "\n",
        "        ETRpred[name[index]].append(ypred)\n",
        "        ans += (ytest - ypred)**2\n",
        "        count += 1\n",
        "        N += 1\n",
        "\n",
        "    etrRMSE.append(ans)\n",
        "    index += 1"
      ],
      "metadata": {
        "id": "egMKz57Jmz7Q"
      },
      "execution_count": 30,
      "outputs": []
    },
    {
      "cell_type": "code",
      "source": [
        "print(\"Total RMSE : \",((sum(etrRMSE)/N))**0.5)"
      ],
      "metadata": {
        "colab": {
          "base_uri": "https://localhost:8080/"
        },
        "id": "vWC1mo23t_A3",
        "outputId": "7a6b260a-f6ca-48c8-c92d-d8cb20812f2f"
      },
      "execution_count": 31,
      "outputs": [
        {
          "output_type": "stream",
          "name": "stdout",
          "text": [
            "Total RMSE :  42.79779731832746\n"
          ]
        }
      ]
    },
    {
      "cell_type": "markdown",
      "source": [
        "etr RMSE is better than random forest regressor rmse"
      ],
      "metadata": {
        "id": "9Ed7ruJxM7fv"
      }
    },
    {
      "cell_type": "code",
      "source": [
        "# fetching random rows for plotting\n",
        "import random\n",
        "rows=[]\n",
        "for i in range(30):\n",
        "  rows.append(random.randint(0,90))"
      ],
      "metadata": {
        "id": "_q-f47WLzT8u"
      },
      "execution_count": 33,
      "outputs": []
    },
    {
      "cell_type": "code",
      "source": [
        "true_value = test.iloc[rows,10]\n",
        "true_value\n",
        "predicted_value = pd.Series(ETRpred['Para-9']).iloc[rows]\n",
        "x_value = []\n",
        "for i in range(len(true_value)):\n",
        "  x_value.append(i+1)\n",
        "plt.plot(x_value,predicted_value, linestyle = 'dotted', label = 'predicted')\n",
        "plt.plot(x_value,true_value, linestyle = 'dotted', label = 'orginial')\n",
        "plt.xlabel('Number of Values')\n",
        "plt.ylabel('Values')\n",
        "plt.title('True vs Predicted Values of Para-9')\n",
        "plt.legend(loc = 'upper right')\n",
        "plt.show()"
      ],
      "metadata": {
        "colab": {
          "base_uri": "https://localhost:8080/",
          "height": 295
        },
        "id": "rucIDumVzoxK",
        "outputId": "b765209b-35af-4b0d-b4f0-213fb0ed7c31"
      },
      "execution_count": 34,
      "outputs": [
        {
          "output_type": "display_data",
          "data": {
            "text/plain": [
              "<Figure size 432x288 with 1 Axes>"
            ],
            "image/png": "[encoded data removed]"
          },
          "metadata": {
            "needs_background": "light"
          }
        }
      ]
    },
    {
      "cell_type": "code",
      "source": [
        "true_value = test.iloc[rows,11]\n",
        "true_value\n",
        "predicted_value = pd.Series(ETRpred['Para-10']).iloc[rows]\n",
        "x_value = []\n",
        "for i in range(len(true_value)):\n",
        "  x_value.append(i+1)\n",
        "plt.plot(x_value,predicted_value, linestyle = 'dotted', label = 'predicted')\n",
        "plt.plot(x_value,true_value, linestyle = 'dotted', label = 'orginial')\n",
        "plt.xlabel('Number of Values')\n",
        "plt.ylabel('Values')\n",
        "plt.title('True vs Predicted Values of Para-10')\n",
        "plt.legend(loc = 'upper right')\n",
        "plt.show()"
      ],
      "metadata": {
        "colab": {
          "base_uri": "https://localhost:8080/",
          "height": 295
        },
        "id": "GdtK3hNm4fKC",
        "outputId": "940796a2-42fd-46ce-8099-06c714ef1357"
      },
      "execution_count": 35,
      "outputs": [
        {
          "output_type": "display_data",
          "data": {
            "text/plain": [
              "<Figure size 432x288 with 1 Axes>"
            ],
            "image/png": "[encoded data removed]"
          },
          "metadata": {
            "needs_background": "light"
          }
        }
      ]
    },
    {
      "cell_type": "code",
      "source": [
        "true_value = test.iloc[rows,12]\n",
        "true_value\n",
        "predicted_value = pd.Series(ETRpred['Para-11']).iloc[rows]\n",
        "x_value = []\n",
        "for i in range(len(true_value)):\n",
        "  x_value.append(i+1)\n",
        "plt.plot(x_value,predicted_value, linestyle = 'dotted', label = 'predicted')\n",
        "plt.plot(x_value,true_value, linestyle = 'dotted', label = 'orginial')\n",
        "plt.xlabel('Number of Values')\n",
        "plt.ylabel('Values')\n",
        "plt.title('True vs Predicted Values of Para-11')\n",
        "plt.legend(loc = 'upper right')\n",
        "plt.show()"
      ],
      "metadata": {
        "colab": {
          "base_uri": "https://localhost:8080/",
          "height": 295
        },
        "id": "XxhGwSbt6Ha6",
        "outputId": "df4b5360-5dcd-49f5-f2a4-1e0c240dbd68"
      },
      "execution_count": 36,
      "outputs": [
        {
          "output_type": "display_data",
          "data": {
            "text/plain": [
              "<Figure size 432x288 with 1 Axes>"
            ],
            "image/png": "[encoded data removed]"
          },
          "metadata": {
            "needs_background": "light"
          }
        }
      ]
    },
    {
      "cell_type": "code",
      "source": [
        "true_value = test.iloc[rows,13]\n",
        "true_value\n",
        "predicted_value = pd.Series(ETRpred['Para-12']).iloc[rows]\n",
        "x_value = []\n",
        "for i in range(len(true_value)):\n",
        "  x_value.append(i+1)\n",
        "plt.plot(x_value,predicted_value, linestyle = 'dotted', label = 'predicted')\n",
        "plt.plot(x_value,true_value, linestyle = 'dotted', label = 'orginial')\n",
        "plt.xlabel('Number of Values')\n",
        "plt.ylabel('Values')\n",
        "plt.title('True vs Predicted Values of Para-12')\n",
        "plt.legend(loc = 'upper right')\n",
        "plt.show()"
      ],
      "metadata": {
        "colab": {
          "base_uri": "https://localhost:8080/",
          "height": 295
        },
        "id": "yGti9xJm6oOw",
        "outputId": "1f4ebe1a-6ce9-4128-84b6-d95a0795b674"
      },
      "execution_count": 37,
      "outputs": [
        {
          "output_type": "display_data",
          "data": {
            "text/plain": [
              "<Figure size 432x288 with 1 Axes>"
            ],
            "image/png": "[encoded data removed]"
          },
          "metadata": {
            "needs_background": "light"
          }
        }
      ]
    },
    {
      "cell_type": "code",
      "source": [
        "true_value = test.iloc[rows,14]\n",
        "true_value\n",
        "predicted_value = pd.Series(ETRpred['Para-13']).iloc[rows]\n",
        "x_value = []\n",
        "for i in range(len(true_value)):\n",
        "  x_value.append(i+1)\n",
        "plt.plot(x_value,predicted_value, linestyle = 'dotted', label = 'predicted')\n",
        "plt.plot(x_value,true_value, linestyle = 'dotted', label = 'orginial')\n",
        "plt.xlabel('Number of Values')\n",
        "plt.ylabel('Values')\n",
        "plt.title('True vs Predicted Values of Para-13')\n",
        "plt.legend(loc = 'upper right')\n",
        "plt.show()"
      ],
      "metadata": {
        "colab": {
          "base_uri": "https://localhost:8080/",
          "height": 295
        },
        "id": "F9L4IZUc6uLK",
        "outputId": "e779cb2b-a0ad-41b2-decf-bc355fc1ef0a"
      },
      "execution_count": 38,
      "outputs": [
        {
          "output_type": "display_data",
          "data": {
            "text/plain": [
              "<Figure size 432x288 with 1 Axes>"
            ],
            "image/png": "[encoded data removed]"
          },
          "metadata": {
            "needs_background": "light"
          }
        }
      ]
    },
    {
      "cell_type": "code",
      "source": [],
      "metadata": {
        "id": "SW_4OebPNUMG"
      },
      "execution_count": null,
      "outputs": []
    }
  ]
}